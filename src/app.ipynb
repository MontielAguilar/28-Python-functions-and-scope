{
 "cells": [
  {
   "cell_type": "markdown",
   "id": "ca20d9ff-d0a9-4bc9-a493-94bc574af749",
   "metadata": {},
   "source": [
    "# Completa las celdas vacías implementando la funcionalidad pedida\n",
    "\n",
    "<b>Nota</b>: En el caso de las funciones, no solo se debe implementar la función, sino además probarla\n",
    "\n",
    "<b>Nota 2</b>: Poner una docstring en cada función que explique su funcionalidad, argumentos de entrada, retorno, etc.\n",
    "\n",
    "## 1) Escribe una función que reciba como argumento un string y lo imprima"
   ]
  },
  {
   "cell_type": "code",
   "execution_count": 71,
   "id": "e62bb91a-b35f-4dcd-96f4-b99b7b29de4d",
   "metadata": {},
   "outputs": [
    {
     "name": "stdout",
     "output_type": "stream",
     "text": [
      "aqui esta el string\n"
     ]
    }
   ],
   "source": [
    "def funcion(palabrita):\n",
    "    \"\"\"\n",
    "    Esta función toma una cadena de texto como argumento y la devuelve sin cambios.\n",
    "\n",
    "    Parámetros:\n",
    "    - palabrita: Una cadena de texto.\n",
    "\n",
    "    Retorna:\n",
    "    - La misma cadena de texto que se pasó como argumento.\n",
    "\n",
    "    Ejemplo de uso:\n",
    "    >>> funcion(\"aqui esta el string\")\n",
    "    'aqui esta el string'\n",
    "    \"\"\"\n",
    "    return palabrita\n",
    "\n",
    "# Ejemplo de uso:\n",
    "variablechachi = funcion(\"aqui esta el string\")\n",
    "print(variablechachi)\n"
   ]
  },
  {
   "cell_type": "code",
   "execution_count": 14,
   "id": "65e43512",
   "metadata": {},
   "outputs": [
    {
     "name": "stdout",
     "output_type": "stream",
     "text": [
      "y esto otra forma de hacerlo\n"
     ]
    }
   ],
   "source": [
    "def funcion (palabrita):    \n",
    "    return(palabrita)\n",
    "\n",
    "print (funcion (\"y esto otra forma de hacerlo\"))"
   ]
  },
  {
   "cell_type": "code",
   "execution_count": 15,
   "id": "59aa2bd2",
   "metadata": {},
   "outputs": [
    {
     "name": "stdout",
     "output_type": "stream",
     "text": [
      "aqui una tercera\n"
     ]
    }
   ],
   "source": [
    "def funcion (palabrita):    \n",
    "    return(print (palabrita))\n",
    "\n",
    "funcion (\"aqui una tercera\")"
   ]
  },
  {
   "cell_type": "markdown",
   "id": "f8eccfc6",
   "metadata": {},
   "source": [
    "### Explicación de la composición de una función\n",
    "\n",
    "1. Forma: \n",
    "* def: Indica que es una función\n",
    "* funcion: es el nombre que le demos a la función (Sin tildes, esecial)\n",
    "* (palabrita): parametro de la función.\n",
    "* return: indica lo que retorna la función. Es importante porque si no lo ponemos, nos imprimirá None. \n",
    "* variablechachi: variable que contiene la función (De esta manera podemos imprimirla)\n",
    "* print: el primero invoca a la variable\n",
    "\n",
    "2. Forma: \n",
    "* Se diferencia de la primera que imprimimos la función sin usar una variable\n",
    "\n",
    "3. Forma: \n",
    "* Se diferencia de las dos anteriores porque retorna el print directamente\n",
    "* Siempre que llamemos a la función siempre retorna print.\n",
    "\n",
    "---------------------------------------------------------------------------------------------------------\n",
    "\n",
    "\n",
    "\n",
    "\n"
   ]
  },
  {
   "cell_type": "markdown",
   "id": "f83aa014-3eac-45c6-be28-7b0d85126712",
   "metadata": {},
   "source": [
    "## 2) Trabajando con listas de entrada\n",
    "Escribe una función que implemente la siguiente funcionalidad\n",
    "\n",
    "La función recibe un solo argumento, que es una lista de números. \n",
    "\n",
    "De esa lista la función imprime aquellos números que sean divisibles por 5."
   ]
  },
  {
   "cell_type": "code",
   "execution_count": 36,
   "id": "b097be1f",
   "metadata": {},
   "outputs": [
    {
     "name": "stdout",
     "output_type": "stream",
     "text": [
      "[15, 30]\n"
     ]
    }
   ],
   "source": [
    "def lista(lst):\n",
    "    \"\"\"\n",
    "    Filtra los elementos de una lista y muestra por consola los que son divisibles por 5.\n",
    "\n",
    "    Parámetros:\n",
    "    - lst: Una lista de números.\n",
    "\n",
    "    Ejemplo de uso:\n",
    "    >>> lista([2, 8, 15, 7, 12, 30])\n",
    "    [15, 30]\n",
    "    \"\"\"\n",
    "    lista_vacia = []\n",
    "\n",
    "    for iterable in lst:\n",
    "        if iterable % 5 == 0:\n",
    "            lista_vacia.append(iterable)\n",
    "\n",
    "    print(lista_vacia)\n",
    "\n",
    "# Ejemplo de uso:\n",
    "listilla = [2, 8, 15, 7, 12, 30]\n",
    "lista(listilla)\n"
   ]
  },
  {
   "cell_type": "markdown",
   "id": "267482c5",
   "metadata": {},
   "source": [
    "### Explicación de la composición del ejercicio. \n",
    "\n",
    "1. Parametro: lst es el parametro que indica que es una lista lo que vamos a pasarle\n",
    "2. lista_vacia = []: Se crea una lista vacia para que se añada posteriormente con bucle for los divisibles entre 5\n",
    "3. for: Itera sobre el parametro lst (cada uno de sus numeros)\n",
    "4. if: Si el numero de la lista es divisible entre 5 y da 0, se añade a la lista\n",
    "5. No es necesario else\n",
    "6. Retornamos la lista (que ya estará llena de los numeros divisibles entre 5) \n",
    "7. Creamos una lista\n",
    "8. Llamamos a la función\n",
    "---------------------------------------------------------------------------------------------------------"
   ]
  },
  {
   "cell_type": "markdown",
   "id": "f25421da-ef26-47bb-94d3-b2f5ed6dedf5",
   "metadata": {},
   "source": [
    "## 3) Trabajando con el retorno de una función\n",
    "\n",
    "Reprogramar la función anterior para que en lugar de imprimir los valores, los devuelva en forma de lista"
   ]
  },
  {
   "cell_type": "code",
   "execution_count": 70,
   "id": "e833ee05-4d15-4f88-aa76-73f37c38b0a5",
   "metadata": {},
   "outputs": [
    {
     "name": "stdout",
     "output_type": "stream",
     "text": [
      "[15, 30]\n"
     ]
    }
   ],
   "source": [
    "# Igual que el anterior, pero la función no retorna print de llista, retorna la lista.\n",
    "# Por tanto, para imprimirla, es preciso la función print\n",
    "def lista(lst):\n",
    "    \"\"\"\n",
    "    Filtra los elementos de una lista y devuelve una nueva lista con aquellos que son divisibles por 5.\n",
    "\n",
    "    Parámetros:\n",
    "    - lst: Una lista de números.\n",
    "\n",
    "    Retorna:\n",
    "    - Una lista que contiene solo los elementos divisibles por 5.\n",
    "\n",
    "    Ejemplo de uso:\n",
    "    >>> lista([2, 8, 15, 7, 12, 30])\n",
    "    [15, 30]\n",
    "    \"\"\"\n",
    "    lista_vacia = []\n",
    "\n",
    "    for iterable in lst:\n",
    "        if iterable % 5 == 0:\n",
    "            lista_vacia.append(iterable)\n",
    "\n",
    "    return lista_vacia\n",
    "\n",
    "# Ejemplo de uso:\n",
    "listilla = [2, 8, 15, 7, 12, 30]\n",
    "resultado = lista(listilla)\n",
    "print(resultado)\n"
   ]
  },
  {
   "cell_type": "markdown",
   "id": "f868b72f-801c-4472-b89f-4124c1b9f3b0",
   "metadata": {},
   "source": [
    "## 4) Trabajando con múltiples argumentos\n",
    "\n",
    "Escribe una función que implemente la siguiente funcionalidad\n",
    "\n",
    "La función recibe 3 argumentos que pueden ser números o strings\n",
    "\n",
    "La función devuelve un string con el valor de los 3 argumentos concatenados uno tras otro con el caracter \"_\"\n",
    "\n",
    "Ejemplo:\n",
    "\n",
    "<b>Entrada</b>:\n",
    "<ul>\n",
    "    <li>1</li>\n",
    "    <li>\"a\"</li>\n",
    "    <li>72</li>\n",
    "</ul>\n",
    "\n",
    "\n",
    "<b>Salida</b>:\n",
    "\n",
    "\"1_a_72\""
   ]
  },
  {
   "cell_type": "code",
   "execution_count": 59,
   "id": "1061baf9-b723-4851-9991-5867f946e0b7",
   "metadata": {},
   "outputs": [
    {
     "name": "stdout",
     "output_type": "stream",
     "text": [
      "1_a_72\n"
     ]
    }
   ],
   "source": [
    "def multiplesparametros(*numeritosypalabritas):\n",
    "    \"\"\"\n",
    "    Convierte una serie de números y palabras en una cadena de texto, separando cada elemento por un guion bajo.\n",
    "\n",
    "    Parámetros:\n",
    "    - *numeritosypalabritas: Una serie de números y palabras.\n",
    "\n",
    "    Retorna:\n",
    "    - Una cadena de texto que combina los elementos con guiones bajos.\n",
    "\n",
    "    Ejemplo de uso:\n",
    "    >>> multiplesparametros(1, \"a\", 72)\n",
    "    '1_a_72'\n",
    "    \"\"\"\n",
    "    lista_vacia = []\n",
    "\n",
    "    for item in numeritosypalabritas:\n",
    "        lista_vacia.append(str(item))\n",
    "\n",
    "    return \"_\".join(lista_vacia)\n",
    "\n",
    "# Ejemplo de uso:\n",
    "resultado = multiplesparametros(1, \"a\", 72)\n",
    "print(resultado)\n",
    "\n",
    "\n",
    "#Uf este has sido duro!"
   ]
  },
  {
   "cell_type": "markdown",
   "id": "0f729792",
   "metadata": {},
   "source": [
    "### Explicación de la composición del ejercicio. \n",
    "\n",
    "*  Como son elementos de una lista, no se puede usar el remplace \n",
    "\n",
    "1. Declaramos la función con * como argumento\n",
    "2. lista_vacia = []: Se crea una lista vacia para que añada todos los items del parametro en formato STR(ya todo es texto)\n",
    "3. retornamos con un join para que concatene los elementos de la lista vacia con _\n",
    "4. Lo demas ya se entiende\n",
    "---------------------------------------------------------------------------------------------------------"
   ]
  },
  {
   "cell_type": "markdown",
   "id": "f112a1fa-8b11-41cd-8746-f9c0ee4a6182",
   "metadata": {},
   "source": [
    "## 5) Trabajando con argumentos opcionales\n",
    "\n",
    "Escribe una función que reciba 4 argumentos:\n",
    "\n",
    "<ul>\n",
    "    <li> x: Un número </li> \n",
    "    <li> y: Otro número </li> \n",
    "    <li> op: Un string cuyo valor por defecto sea \"add\" </li> \n",
    "    <li> ret_type: Un string cuyo valor por defecto sea \"int\" </li> \n",
    "</ul>\n",
    "\n",
    "Esa función debe aplicar a \"x\" e \"y\" la operación que corresponda según el valor de \"op\".\n",
    "<ul>\n",
    "    <li> Si op == \"add\" los suma </li> \n",
    "    <li> Si op == \"sub\" los resta </li> \n",
    "    <li> Si op == \"mul\" los multiplica </li> \n",
    "    <li> Si op == \"div\" los divide </li> \n",
    "</ul>\n",
    "\n",
    "Y luego debe de retornar en resultado de la operación anterior:\n",
    "<ul>\n",
    "    <li> Si ret_type == \"int\" lo retorna en forma de número entero redondeando el resultado </li> \n",
    "    <li> Si ret_type == \"float\" lo retorna en forma de float </li> \n",
    "    <li> Si ret_type == \"str\" retorna un string con el valor del número en él</li> \n",
    "</ul>\n",
    "\n",
    "Llama a la función al menos de 5 maneras diferentes y en algunos de los casos deja que los valores sean los que fija por defecto en los argumentos opcionales.\n"
   ]
  },
  {
   "cell_type": "code",
   "execution_count": 69,
   "id": "1904fe4d-a0c7-4f72-99e1-1ff40a00bbe4",
   "metadata": {},
   "outputs": [
    {
     "name": "stdout",
     "output_type": "stream",
     "text": [
      "9\n",
      "10.0\n",
      "48\n",
      "4\n",
      "3\n"
     ]
    }
   ],
   "source": [
    "def realizar_operacion(x, y, op=\"add\", ret_type=\"int\"):\n",
    "    \"\"\"\n",
    "    Realiza una operación entre dos números según el valor de \"op\" y retorna el resultado con el tipo especificado.\n",
    "\n",
    "    Parámetros:\n",
    "    - x: Un número.\n",
    "    - y: Otro número.\n",
    "    - op: Un string que especifica la operación (\"add\", \"sub\", \"mul\", \"div\").\n",
    "    - ret_type: Un string que especifica el tipo de retorno (\"int\", \"float\", \"str\").\n",
    "\n",
    "    Retorna:\n",
    "    - El resultado de la operación con el tipo de retorno especificado.\n",
    "\n",
    "    Ejemplos de uso:\n",
    "    >>> realizar_operacion(6, 3)\n",
    "    9\n",
    "\n",
    "    >>> realizar_operacion(12, 2, op=\"sub\", ret_type=\"float\")\n",
    "    10.0\n",
    "\n",
    "    >>> realizar_operacion(8, 6, op=\"mul\", ret_type=\"str\")\n",
    "    '48'\n",
    "\n",
    "    >>> realizar_operacion(9, 2, op=\"div\", ret_type=\"int\")\n",
    "    4\n",
    "\n",
    "    >>> realizar_operacion(8, 3, op=\"div\")\n",
    "    3\n",
    "    \"\"\"\n",
    "    resultado = 0\n",
    "\n",
    "    if op == \"add\":\n",
    "        resultado = x + y\n",
    "    elif op == \"sub\":\n",
    "        resultado = x - y\n",
    "    elif op == \"mul\":\n",
    "        resultado = x * y\n",
    "    elif op == \"div\":\n",
    "        if y != 0:\n",
    "            resultado = x / y\n",
    "        else:\n",
    "            return \"Error: División por cero no permitida.\"\n",
    "    else:\n",
    "        return \"Error: Operación no válida.\"\n",
    "\n",
    "    if ret_type == \"int\":\n",
    "        return round(resultado)\n",
    "    elif ret_type == \"float\":\n",
    "        return float(resultado)\n",
    "    elif ret_type == \"str\":\n",
    "        return str(resultado)\n",
    "    else:\n",
    "        return \"Error: Tipo de retorno no válido.\"\n",
    "\n",
    "# Caso 1: Suma con retorno entero (valores por defecto)\n",
    "resultado1 = realizar_operacion(6, 3)\n",
    "print(resultado1)\n",
    "\n",
    "# Caso 2: Resta con retorno float\n",
    "resultado2 = realizar_operacion(12, 2, op=\"sub\", ret_type=\"float\")\n",
    "print(resultado2)\n",
    "\n",
    "# Caso 3: Multiplicación con retorno string\n",
    "resultado3 = realizar_operacion(8, 6, op=\"mul\", ret_type=\"str\")\n",
    "print(resultado3)\n",
    "\n",
    "# Caso 4: División con retorno entero\n",
    "resultado4 = realizar_operacion(9, 2, op=\"div\", ret_type=\"int\")\n",
    "print(resultado4)\n",
    "\n",
    "# Caso 5: División con retorno por defecto (entero redondeado)\n",
    "resultado5 = realizar_operacion(8, 3, op=\"div\")\n",
    "print(resultado5)\n"
   ]
  },
  {
   "cell_type": "markdown",
   "id": "6e01cbe8",
   "metadata": {},
   "source": [
    "### Explicación de la composición del ejercicio. \n",
    "\n",
    "*  Creo que es a esto a lo que se refiere la practica.\n",
    "\n",
    "1. El ejercicio se basa principalmente en crear 2 if dentro de una función con 4 parametros.\n",
    "2. Me abstengo a explicar de nuevo una función y los if, pero si destacaría del ejercicio:\n",
    "* Partiendo de si un string (o es de un tipo u otro) es igual, diferente... se ejecuta de una forma u otra una operación.\n",
    "* Ejemlo: Si en el frutero hay 1 manzana, suma 3+4, si hay un mellón resta 9-6... \n",
    "\n",
    "\n",
    "---------------------------------------------------------------------------------------------------------"
   ]
  },
  {
   "cell_type": "markdown",
   "id": "ea3fa94e-d2ed-496b-9551-b936a622e6a2",
   "metadata": {},
   "source": [
    "## 6) Trabajando con número indefinido de argumentos\n",
    "\n",
    "Programa, una función que reciba un primer argumento llamado \"op\" con los valores posibles que definimos en el ejercicio anterior y luego reciba un número indeterminado de argumentos cuyo valor esperado son números\n",
    "\n",
    "Esta función debe de aplicar esa operación deseada al resto de argumentos en el orden indicado y devolver el resultado de dicha operación.\n",
    "\n",
    "Ejemplo de como tendría que funcionar esta función:\n",
    "\n",
    "\\>\\> apply_op(op=\"add\", 1, 1, 3)\n"
   ]
  },
  {
   "cell_type": "code",
   "execution_count": 65,
   "id": "fc3d1c85-f22a-4da9-9c2c-7826050bc25e",
   "metadata": {},
   "outputs": [
    {
     "name": "stdout",
     "output_type": "stream",
     "text": [
      "10\n",
      "5\n",
      "24\n",
      "5.0\n"
     ]
    }
   ],
   "source": [
    "def apply_op(op, *args):\n",
    "    \"\"\"\n",
    "    Realiza la operación especificada por \"op\" en la lista de números proporcionada.\n",
    "\n",
    "    Parámetros:\n",
    "    - op: Un string que especifica la operación (\"add\", \"sub\", \"mul\", \"div\").\n",
    "    - *args: Números sobre los cuales realizar la operación.\n",
    "\n",
    "    Retorna:\n",
    "    - El resultado de la operación.\n",
    "\n",
    "    Ejemplos de uso:\n",
    "    >>> apply_op(\"add\", 1, 2, 3, 4)\n",
    "   \n",
    "\n",
    "    >>> apply_op(\"sub\", 10, 2, 3)\n",
    " \n",
    "\n",
    "    >>> apply_op(\"mul\", 2, 3, 4)\n",
    "\n",
    "\n",
    "    >>> apply_op(\"div\", 20, 2, 2)\n",
    "\n",
    "    \"\"\"\n",
    "    resultado = args[0]\n",
    "\n",
    "    for num in args[1:]:\n",
    "        if op == \"add\":\n",
    "            resultado += num\n",
    "        elif op == \"sub\":\n",
    "            resultado -= num\n",
    "        elif op == \"mul\":\n",
    "            resultado *= num\n",
    "        elif op == \"div\":\n",
    "            if num != 0:\n",
    "                resultado /= num\n",
    "            else:\n",
    "                return \"Error: División por cero no permitida.\"\n",
    "        else:\n",
    "            return \"Error: Operación no válida.\"\n",
    "\n",
    "    return resultado\n",
    "\n",
    "\n",
    "\n",
    "resultado_suma = apply_op(\"add\", 1, 2, 3, 4)\n",
    "print(resultado_suma)\n",
    "\n",
    "resultado_resta = apply_op(\"sub\", 10, 2, 3)\n",
    "print(resultado_resta) \n",
    "\n",
    "resultado_multiplicacion = apply_op(\"mul\", 2, 3, 4)\n",
    "print(resultado_multiplicacion)  \n",
    "\n",
    "resultado_division = apply_op(\"div\", 20, 2, 2)\n",
    "print(resultado_division) "
   ]
  },
  {
   "cell_type": "markdown",
   "id": "7ef8a604",
   "metadata": {},
   "source": [
    "### Explicación de la composición del ejercicio. \n",
    "\n",
    "*  La complejidad de este rejercicio reside en:\n",
    "\n",
    "* Aqui entendemos numeros como un todo, por ende, la operación debe hacerse sobre todos los parametros dentro de numeros\n",
    "1.resultado = args[0]: De esta forma garantizamos que usamos \n",
    "\n",
    "\n",
    "---------------------------------------------------------------------------------------------------------"
   ]
  },
  {
   "cell_type": "markdown",
   "id": "47833051-6034-41bb-b37c-36f361a515e1",
   "metadata": {},
   "source": [
    "## 7) Documentación de funciones\n",
    "\n",
    "Escribe una docstring para cada una de las funciones implementadas hasta el momento"
   ]
  },
  {
   "cell_type": "markdown",
   "id": "4197e5f6",
   "metadata": {},
   "source": [
    "Estan hechas en cada función"
   ]
  },
  {
   "cell_type": "markdown",
   "id": "b3e4e4af-6d78-47f5-b6d3-c1d6e83bd434",
   "metadata": {},
   "source": [
    "## 8) Paso por referencia vs paso por valor\n",
    "Crea una función que reciba una lista de strings, y que calcule un nuevo string hecho con el comienzo de cada uno.\n",
    "\n",
    "Ej:\n",
    "\n",
    "[\"hello\", \"Susan\", \"hi\", \"sugar\"] -> \"hShs\"\n",
    "\n",
    "Y que devuelva una lista con ese nuevo elemento añadido al final:\n",
    "\n",
    "Ej: [\"hello\", \"Susan\", \"hi\", \"sugar\", \"hShs\"]\n",
    "\n",
    "Pero que logre esto sin cambiar colateralmente ninguna variable ajena al scope de la función"
   ]
  },
  {
   "cell_type": "code",
   "execution_count": 1,
   "id": "f495ebcc-6711-426e-a3c6-e67a3d2e8e21",
   "metadata": {},
   "outputs": [
    {
     "name": "stdout",
     "output_type": "stream",
     "text": [
      "['hello', 'Susan', 'hi', 'sugar', 'hShs']\n"
     ]
    }
   ],
   "source": [
    "def procesar_lista(input_lista):\n",
    "    # Crear una copia de la lista para evitar cambios colaterales\n",
    "    nueva_lista = input_lista.copy()\n",
    "\n",
    "    # Calcular el nuevo string hecho con el comienzo de cada palabra\n",
    "    nuevo_string = ''.join(word[0] for word in nueva_lista)\n",
    "\n",
    "    # Añadir el nuevo elemento al final de la lista\n",
    "    nueva_lista.append(nuevo_string)\n",
    "\n",
    "    return nueva_lista\n",
    "\n",
    "\n",
    "mi_lista = [\"hello\", \"Susan\", \"hi\", \"sugar\"]\n",
    "resultado = procesar_lista(mi_lista)\n",
    "\n",
    "print(resultado)"
   ]
  },
  {
   "cell_type": "code",
   "execution_count": 2,
   "id": "dc282dbe",
   "metadata": {},
   "outputs": [
    {
     "name": "stdout",
     "output_type": "stream",
     "text": [
      "hShs\n"
     ]
    }
   ],
   "source": [
    "def procesar_lista(input_lista):\n",
    "    # Crear una copia de la lista para evitar cambios colaterales\n",
    "    nueva_lista = input_lista.copy()\n",
    "\n",
    "    # Calcular el nuevo string hecho con el comienzo de cada palabra\n",
    "    nuevo_string = ''.join(word[0] for word in nueva_lista)\n",
    "\n",
    "    return nuevo_string\n",
    "\n",
    "# Ejemplo de uso\n",
    "mi_lista = [\"hello\", \"Susan\", \"hi\", \"sugar\"]\n",
    "resultado = procesar_lista(mi_lista)\n",
    "\n",
    "print(resultado)"
   ]
  },
  {
   "cell_type": "markdown",
   "id": "4ed74af7",
   "metadata": {},
   "source": [
    "### Explicación de la composición del ejercicio. \n",
    "\n",
    "*  Como no sé si se pedia una u otra función, se realizan 2 funciones con resultados parecidos.\n",
    "1. imprime: ['hello', 'Susan', 'hi', 'sugar', 'hShs']\n",
    "2. imprime: hShs\n",
    "\n",
    "* A destacar en ambas:\n",
    "1. Se utiliza copy, para no alterar la lista/parametral\n",
    "2. Una retorna nueva_lista y la otra nuevo_string\n",
    "\n",
    "* la principal diferencia entre ambos esta en lo que devuelve cada función. \n",
    "* La primera devuelve la lista modificada, mientras que la segunda devuelve solo el nuevo string calculado.\n",
    "---------------------------------------------------------------------------------------------------------\n"
   ]
  },
  {
   "cell_type": "markdown",
   "id": "b0aafdab-da34-4de8-8b82-68012cf5d264",
   "metadata": {},
   "source": [
    "## 9) Programación funcional\n",
    "Mediante la operación map y una función lambda programa un código que coja una lista de strings y genere una lista igual pero con el caracter exclamación añadido al final.\n",
    "\n",
    "Ej:\n",
    "\n",
    "[\"hello\", \"Susan\", \"hi\", \"sugar\"] -> [\"hello!\", \"Susan!\", \"hi!\", \"sugar!\"]\n",
    "\n",
    "Haz otro código que haga esto mismo pero usando una \"list comprehension\" (la sintaxis especial que en una sola línea y mediante corchetes crea una lista basada en una lista ya existente)"
   ]
  },
  {
   "cell_type": "code",
   "execution_count": 3,
   "id": "0c4f61d4-9b79-4337-8ed6-e5b8aa7de73c",
   "metadata": {},
   "outputs": [
    {
     "name": "stdout",
     "output_type": "stream",
     "text": [
      "['hello!', 'Susan!', 'hi!', 'sugar!']\n"
     ]
    }
   ],
   "source": [
    "original_lista = [\"hello\", \"Susan\", \"hi\", \"sugar\"]\n",
    "nueva_lista_map = list(map(lambda palabra: palabra + \"!\", original_lista))\n",
    "print(nueva_lista_map)"
   ]
  },
  {
   "cell_type": "markdown",
   "id": "ecf215f4",
   "metadata": {},
   "source": [
    "### Explicación de la composición del ejercicio. \n",
    "\n",
    "1. Lista\n",
    "1. Como map devuelve una función iterable, transformamos el iterable en una lista\n",
    "2. map: Lo que hace es aplicar una funcion a un elemento iterable (en este caso la funciónn es una lambda)\n",
    "3. La función lambda hace lo siguiente: palabra es el parametro\n",
    "    * añade al parametro !\n",
    "4. Aqui llega la magia: Map aplica la función lambda a original lista, convirtiendo original_lista en el parametro de la función"
   ]
  },
  {
   "cell_type": "code",
   "execution_count": 6,
   "id": "5a9b2bed-f6ca-43f4-b207-9d51ca15c7ac",
   "metadata": {},
   "outputs": [
    {
     "name": "stdout",
     "output_type": "stream",
     "text": [
      "['hello!', 'Susan!', 'hi!', 'sugar!']\n"
     ]
    }
   ],
   "source": [
    "#Aqui una forma mas sencilla de hacerlo.\n",
    "original_lista = [\"hello\", \"Susan\", \"hi\", \"sugar\"]\n",
    "nueva_lista_comp = [palabra + \"!\" for palabra in original_lista]\n",
    "print(nueva_lista_comp)\n"
   ]
  }
 ],
 "metadata": {
  "kernelspec": {
   "display_name": "Python 3 (ipykernel)",
   "language": "python",
   "name": "python3"
  },
  "language_info": {
   "codemirror_mode": {
    "name": "ipython",
    "version": 3
   },
   "file_extension": ".py",
   "mimetype": "text/x-python",
   "name": "python",
   "nbconvert_exporter": "python",
   "pygments_lexer": "ipython3",
   "version": "3.11.3"
  }
 },
 "nbformat": 4,
 "nbformat_minor": 5
}
